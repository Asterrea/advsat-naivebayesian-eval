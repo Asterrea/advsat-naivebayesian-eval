{
 "cells": [
  {
   "cell_type": "markdown",
   "metadata": {},
   "source": [
    "We will now evaluate the performance of the classifier\n",
    "There are 2 evaluation formulas\n",
    "1. Used by Sahami et.al\n",
    "2. Used by Koutsias et.al\n",
    "\n",
    "The formulas in 1: \n",
    "\\begin{equation}\n",
    "Recall = \\frac{n_{S\\rightarrow S}}{n_{S\\rightarrow S} + n_{S\\rightarrow L}}\n",
    "\\end{equation}\n",
    "\n",
    "and\n",
    "\n",
    "\\begin{equation}\n",
    "Precision= \\frac{n_{S\\rightarrow S}}{n_{S\\rightarrow S} + n_{L\\rightarrow S}}\n",
    "\\end{equation}\n",
    "\n",
    "\n",
    "The second used Cost-Sensitive evaluation formulas:\n",
    "\n",
    "\\begin{equation}\n",
    "WAccuracy= \\frac{\\lambda*n_{L\\rightarrow L}+n_{S\\rightarrow S}}{\\lambda*n_{L} + n_{S}}\n",
    "\\end{equation}\n",
    "\n",
    "\\begin{equation}\n",
    "WError= \\frac{\\lambda*n_{L\\rightarrow S}+n_{S\\rightarrow L}}{\\lambda*n_{L} + n_{S}}\n",
    "\\end{equation}\n",
    "\n",
    "\n",
    "**More Information:**\n",
    "\n",
    "1. S-S : Number of emails that are `spam` and classified  as `spam`\n",
    "2. S-L : Number of emails that are `spam` and classified  as `legit`\n",
    "3. L-L : Number of emails that are `legit` and classified  as `legit`\n",
    "4. L-S : Number of emails that are `legit` and classified  as `spam`\n",
    "5. L   : Number of emails that are `legit`\n",
    "6. S   : Number of emails that are `spam`\n",
    "7. Lambda: Threshold used to determine if an email is spam, there were 3 thresholds used (1, 9, and 999)"
   ]
  },
  {
   "cell_type": "code",
   "execution_count": 9,
   "metadata": {
    "collapsed": true
   },
   "outputs": [],
   "source": [
    "class Results: \n",
    "    #(bare, lemm, lemm_stop, stop)\n",
    "    corpusName = \"\"\n",
    "    #(True, False = Non-weighted)\n",
    "    weighted = False\n",
    "    #(1,9,999)\n",
    "    threshold = 0 \n",
    "    #(50-700)\n",
    "    featureCount = 0\n",
    "    #(spam - spam)\n",
    "    SS = 0\n",
    "    #(spam - legit)\n",
    "    SL = 0\n",
    "    #(legit - legit)\n",
    "    LL = 0\n",
    "    #(legit - spam)\n",
    "    LS = 0\n",
    "    \n",
    "\n",
    "    def __init__(self, corpusName, weighted, threshold, featureCount, SS, SL, LL, LS):\n",
    "        self.corpusName = corpusName\n",
    "        self.weighted = weighted\n",
    "        self.threshold = threshold\n",
    "        self.featureCount = featureCount\n",
    "        self.SS = SS\n",
    "        self.SL = SL\n",
    "        self.LL = LL\n",
    "        self.LS = LS\n",
    "    "
   ]
  },
  {
   "cell_type": "code",
   "execution_count": 22,
   "metadata": {
    "collapsed": true
   },
   "outputs": [],
   "source": [
    "def computeSR(SS,SL):\n",
    "    return (SS/(SS+SL))\n",
    "\n",
    "def computeSP(SS, LS):\n",
    "    return (SS/(SS+LS))\n",
    "\n",
    "def computeWAcc(thresh, LL, SS, L, S):\n",
    "    return (((thresh*LL)+SS)/(((thresh*L)+S)))\n",
    "\n",
    "def computeWErr(thresh, LS, SL, L, S):\n",
    "    return (((thresh*LS)+SL)/(((thresh*L)+S)))\n",
    "\n",
    "def computeBaseWAcc(thresh, L, S):\n",
    "    return ((thresh*L)/((thresh*L)+S))\n",
    "\n",
    "def computeBaseWErr(thresh, L, S):\n",
    "    return (S/((thresh*L)+S))\n",
    "\n",
    "def computeTCR(thresh, S, LS, SL):\n",
    "    return (S/((thresh*LS)+SL))\n",
    "    "
   ]
  },
  {
   "cell_type": "code",
   "execution_count": 71,
   "metadata": {
    "collapsed": false
   },
   "outputs": [],
   "source": [
    "import pandas as pd\n",
    "import os\n",
    "   \n",
    "rootdir = \"Classified/\"\n",
    "\n",
    "#for each subdirectory in a corpus (folders - part 1 - 10)\n",
    "for subdir, dirs, files in os.walk(rootdir):\n",
    "    for d in dirs:\n",
    "        #for each file in a folder\n",
    "        for file in files:  \n",
    "            print (rootdir,subdir,d, file)\n",
    "\n",
    "# df = pd.read_csv(\"Classified/bare/50.csv\")\n",
    "\n",
    "# print (df[:5])"
   ]
  },
  {
   "cell_type": "code",
   "execution_count": 29,
   "metadata": {
    "collapsed": false
   },
   "outputs": [
    {
     "name": "stdout",
     "output_type": "stream",
     "text": [
      "S 20\n",
      "L 11\n",
      "SS 11\n",
      "SL 9\n",
      "LL 7\n",
      "LS 4\n"
     ]
    }
   ],
   "source": [
    "S = len(df[(df[\"Actual\"]  == 0)])\n",
    "L = len(df[(df[\"Actual\"]  == 1)])\n",
    "SS = len(df[(df[\"Actual\"]  == 0) & (df[\"Predicted\"] == 0)])\n",
    "SL = len(df[(df[\"Actual\"]  == 0) & (df[\"Predicted\"] == 1)])\n",
    "LL = len(df[(df[\"Actual\"]  == 1) & (df[\"Predicted\"] == 1)])\n",
    "LS = len(df[(df[\"Actual\"]  == 1) & (df[\"Predicted\"] == 0)])\n",
    "\n",
    "print (\"S\",S)\n",
    "print (\"L\",L)\n",
    "print (\"SS\",SS)\n",
    "print (\"SL\",SL)\n",
    "print (\"LL\",LL)\n",
    "print (\"LS\",LS)"
   ]
  },
  {
   "cell_type": "code",
   "execution_count": 52,
   "metadata": {
    "collapsed": false
   },
   "outputs": [],
   "source": [
    "# scatterplot.py\n",
    "import numpy as np\n",
    "import pylab as pl\n",
    "\n",
    "def plotThresh(thresh, BSP, BSR, LSP, LSR, LSSP, LSSR, SSP, SSR):\n",
    "    title = \"Precision and Recall at Threshold: \"  + str(thresh)\n",
    "    \n",
    "    pl.xlabel('Spam Recall')\n",
    "    pl.ylabel('Spam Precision')\n",
    "    pl.title(title)\n",
    "    \n",
    "    #set the x-axis scale\n",
    "    pl.xlim(0.4, 1)\n",
    "    #set the y-axis scale\n",
    "    pl.ylim(0.95, 1)\n",
    "    \n",
    "    # Recall, Precison\n",
    "    pl.plot(BSR, BSP, 'ro', label='No Lemmatizer, No Stop-list')\n",
    "    pl.plot(LSR, LSP, 'bs', label='No Lemmatizer, Top-100 Stop-list')\n",
    "    pl.plot(LSSR, LSSP,'gD', label='With Lemmatizer, No Stop-list')\n",
    "    pl.plot(SSR, SSP, 'k*', label='With Lemmatizer, Top-100 Stop-list')\n",
    "    pl.legend(loc='upper right')\n",
    "    pl.grid()\n",
    "    # show the plot on the screen\n",
    "    pl.show()"
   ]
  },
  {
   "cell_type": "code",
   "execution_count": 58,
   "metadata": {
    "collapsed": true
   },
   "outputs": [],
   "source": [
    "# scatterplot.py\n",
    "import numpy as np\n",
    "import pylab as pl\n",
    "\n",
    "def plotTCR(thresh, BTCR, LTCR, LSTCR, STCR):\n",
    "    title = \"TCR at Threshold: \"  + str(thresh)\n",
    "    \n",
    "    pl.xlabel('Number of retained Attributes')\n",
    "    pl.ylabel('TCR')\n",
    "    pl.title(title)\n",
    "    \n",
    "    #set the x-axis scale\n",
    "    pl.xlim(50, 700)\n",
    "    #set the y-axis scale\n",
    "    pl.ylim(0.0, 6.0)\n",
    "    \n",
    "    y = np.arange(50,750,50)\n",
    "    \n",
    "    # Recall, Precison\n",
    "    pl.plot(y, BTCR, 'r', marker = \"o\", label='No Lemmatizer, No Stop-list')\n",
    "    pl.plot(y, LTCR, 'b', marker = \"s\", label='No Lemmatizer, Top-100 Stop-list')\n",
    "    pl.plot(y, LSTCR,'g', marker = \"D\", label='With Lemmatizer, No Stop-list')\n",
    "    pl.plot(y, STCR, 'k', marker = \"*\", label='With Lemmatizer, Top-100 Stop-list')\n",
    "    pl.legend(loc='upper right')\n",
    "    pl.grid()\n",
    "    # show the plot on the screen\n",
    "    pl.show()"
   ]
  },
  {
   "cell_type": "code",
   "execution_count": 61,
   "metadata": {
    "collapsed": false,
    "scrolled": true
   },
   "outputs": [],
   "source": [
    "import pandas as pd\n",
    "\n",
    "header = ['Filter Configurations', 'Threshold', 'No. of Attrib', 'Spam Recall', 'Spam Precision', \n",
    "          'Weighted Accuracy', 'baseline W.Acc', 'TCR']\n",
    "df = pd.DataFrame(columns = header)"
   ]
  },
  {
   "cell_type": "code",
   "execution_count": null,
   "metadata": {
    "collapsed": true
   },
   "outputs": [],
   "source": []
  }
 ],
 "metadata": {
  "kernelspec": {
   "display_name": "Python 3",
   "language": "python",
   "name": "python3"
  },
  "language_info": {
   "codemirror_mode": {
    "name": "ipython",
    "version": 3
   },
   "file_extension": ".py",
   "mimetype": "text/x-python",
   "name": "python",
   "nbconvert_exporter": "python",
   "pygments_lexer": "ipython3",
   "version": "3.5.2"
  }
 },
 "nbformat": 4,
 "nbformat_minor": 2
}
